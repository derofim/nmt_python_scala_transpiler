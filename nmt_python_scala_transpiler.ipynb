{
 "cells": [
  {
   "cell_type": "markdown",
   "metadata": {},
   "source": [
    "# Python to Scala Transpiler using Neural Machine Translation\n",
    "This project demonstrates how to convert simple Python expressions into Scala expressions. For example, consider the following Python expression.\n",
    "```python\n",
    "[a(x, z) for x in l if b(x, y)]\n",
    "```\n",
    "Within the context of this work, the equivalent Scala expressions is\n",
    "```scala\n",
    "l.filter(x => b(x, y)).map(x => a(x, z))\n",
    "```\n",
    "\n",
    "[Neural machine translation (NMT)](https://en.wikipedia.org/wiki/Neural_machine_translation)\n",
    "is applied using a [recurrent neural network](https://en.wikipedia.org/wiki/Recurrent_neural_network)\n",
    "to implement this transpiler. The RNN is created by adapting the excellent work of Zafarali Ahmed in\n",
    "[keras-attention](https://github.com/datalogue/keras-attention),\n",
    "which was originally developed to convert dates from varied human readable format to machine format.\n",
    "\n",
    "See README.md for more details on this work and reproducing and extending it."
   ]
  },
  {
   "cell_type": "code",
   "execution_count": 1,
   "metadata": {},
   "outputs": [
    {
     "name": "stderr",
     "output_type": "stream",
     "text": [
      "Using TensorFlow backend.\n"
     ]
    }
   ],
   "source": [
    "import os\n",
    "os.environ[\"CUDA_DEVICE_ORDER\"] = \"PCI_BUS_ID\"\n",
    "os.environ[\"CUDA_VISIBLE_DEVICES\"] = '0'\n",
    "\n",
    "import numpy as np\n",
    "import matplotlib.pyplot as plt\n",
    "import pandas as pd\n",
    "import seaborn as sns\n",
    "from tqdm import tqdm\n",
    "\n",
    "import tensorflow as tf\n",
    "from keras.callbacks import ModelCheckpoint\n",
    "from keras.utils.training_utils import multi_gpu_model\n"
   ]
  },
  {
   "cell_type": "code",
   "execution_count": 2,
   "metadata": {},
   "outputs": [],
   "source": [
    "# include companion project keras-attention libraries\n",
    "import sys\n",
    "sys.path.append('../keras-attention')\n",
    "\n",
    "from data.reader import Vocabulary, Data\n",
    "from models.NMT import simpleNMT\n",
    "from utils.metrics import all_acc"
   ]
  },
  {
   "cell_type": "markdown",
   "metadata": {},
   "source": [
    "# Load Data\n",
    "See details in README.md for generating data"
   ]
  },
  {
   "cell_type": "code",
   "execution_count": 3,
   "metadata": {},
   "outputs": [
    {
     "name": "stdout",
     "output_type": "stream",
     "text": [
      "400000\n"
     ]
    },
    {
     "data": {
      "text/html": [
       "<div>\n",
       "<style scoped>\n",
       "    .dataframe tbody tr th:only-of-type {\n",
       "        vertical-align: middle;\n",
       "    }\n",
       "\n",
       "    .dataframe tbody tr th {\n",
       "        vertical-align: top;\n",
       "    }\n",
       "\n",
       "    .dataframe thead th {\n",
       "        text-align: right;\n",
       "    }\n",
       "</style>\n",
       "<table border=\"1\" class=\"dataframe\">\n",
       "  <thead>\n",
       "    <tr style=\"text-align: right;\">\n",
       "      <th></th>\n",
       "      <th>input</th>\n",
       "      <th>output</th>\n",
       "    </tr>\n",
       "  </thead>\n",
       "  <tbody>\n",
       "    <tr>\n",
       "      <th>163704</th>\n",
       "      <td>[z(j) for j in m(g(t),[d for d in t if j(d)])]</td>\n",
       "      <td>m(g(t),t.filter(j)).map(z)</td>\n",
       "    </tr>\n",
       "    <tr>\n",
       "      <th>216160</th>\n",
       "      <td>[m(f,b) for f in c]</td>\n",
       "      <td>c.map(f =&gt; m(f,b))</td>\n",
       "    </tr>\n",
       "    <tr>\n",
       "      <th>317981</th>\n",
       "      <td>[j(k) for k in q(y(q,v),[q(v,f(z(g(k),v(q)),j(...</td>\n",
       "      <td>q(y(q,v),q.filter(v =&gt; v).map(v =&gt; q(v,f(z(g(k...</td>\n",
       "    </tr>\n",
       "    <tr>\n",
       "      <th>194187</th>\n",
       "      <td>[b for b in c if b(b)]</td>\n",
       "      <td>c.filter(b)</td>\n",
       "    </tr>\n",
       "    <tr>\n",
       "      <th>266994</th>\n",
       "      <td>[p(b) for b in o(i,x(b)) if b]</td>\n",
       "      <td>o(i,x(b)).filter(b =&gt; b).map(p)</td>\n",
       "    </tr>\n",
       "    <tr>\n",
       "      <th>55682</th>\n",
       "      <td>e(u,h(u))</td>\n",
       "      <td>e(u,h(u))</td>\n",
       "    </tr>\n",
       "    <tr>\n",
       "      <th>119073</th>\n",
       "      <td>[f for f in k([u(r) for r in l],u(l)) if f]</td>\n",
       "      <td>k(l.map(u),u(l)).filter(f =&gt; f)</td>\n",
       "    </tr>\n",
       "    <tr>\n",
       "      <th>298186</th>\n",
       "      <td>[c(r(j),u) for u in z]</td>\n",
       "      <td>z.map(u =&gt; c(r(j),u))</td>\n",
       "    </tr>\n",
       "  </tbody>\n",
       "</table>\n",
       "</div>"
      ],
      "text/plain": [
       "                                                    input  \\\n",
       "163704     [z(j) for j in m(g(t),[d for d in t if j(d)])]   \n",
       "216160                                [m(f,b) for f in c]   \n",
       "317981  [j(k) for k in q(y(q,v),[q(v,f(z(g(k),v(q)),j(...   \n",
       "194187                             [b for b in c if b(b)]   \n",
       "266994                     [p(b) for b in o(i,x(b)) if b]   \n",
       "55682                                           e(u,h(u))   \n",
       "119073        [f for f in k([u(r) for r in l],u(l)) if f]   \n",
       "298186                             [c(r(j),u) for u in z]   \n",
       "\n",
       "                                                   output  \n",
       "163704                         m(g(t),t.filter(j)).map(z)  \n",
       "216160                                 c.map(f => m(f,b))  \n",
       "317981  q(y(q,v),q.filter(v => v).map(v => q(v,f(z(g(k...  \n",
       "194187                                        c.filter(b)  \n",
       "266994                    o(i,x(b)).filter(b => b).map(p)  \n",
       "55682                                           e(u,h(u))  \n",
       "119073                    k(l.map(u),u(l)).filter(f => f)  \n",
       "298186                              z.map(u => c(r(j),u))  "
      ]
     },
     "execution_count": 3,
     "metadata": {},
     "output_type": "execute_result"
    }
   ],
   "source": [
    "expressions = pd.read_csv('data/expressions', sep='|', names=['python', 'scala'])\n",
    "expressions = expressions.rename(columns={'python':'input', 'scala':'output'})\n",
    "print(len(expressions))\n",
    "\n",
    "expressions.sample(8)"
   ]
  },
  {
   "cell_type": "markdown",
   "metadata": {},
   "source": [
    "## Determine Padding Size"
   ]
  },
  {
   "cell_type": "code",
   "execution_count": 4,
   "metadata": {},
   "outputs": [
    {
     "data": {
      "text/plain": [
       "278"
      ]
     },
     "execution_count": 4,
     "metadata": {},
     "output_type": "execute_result"
    }
   ],
   "source": [
    "max_input_length = expressions['input'].str.len().max()\n",
    "max_input_length"
   ]
  },
  {
   "cell_type": "code",
   "execution_count": 5,
   "metadata": {},
   "outputs": [
    {
     "data": {
      "text/plain": [
       "282"
      ]
     },
     "execution_count": 5,
     "metadata": {},
     "output_type": "execute_result"
    }
   ],
   "source": [
    "max_output_length = expressions['output'].str.len().max()\n",
    "max_output_length"
   ]
  },
  {
   "cell_type": "code",
   "execution_count": 6,
   "metadata": {},
   "outputs": [
    {
     "data": {
      "text/plain": [
       "298"
      ]
     },
     "execution_count": 6,
     "metadata": {},
     "output_type": "execute_result"
    }
   ],
   "source": [
    "padding = max(max_input_length, max_output_length) + 16\n",
    "padding"
   ]
  },
  {
   "cell_type": "code",
   "execution_count": 7,
   "metadata": {},
   "outputs": [],
   "source": [
    "class ExpressionVocabulary(Vocabulary):\n",
    "    \"\"\"Hacked class to expose the vecabularly using an API required by keras-attention\n",
    "       for data in this project.\n",
    "    \"\"\"\n",
    "    \n",
    "    def __init__(self, vocabulary, padding):\n",
    "        self.vocabulary = vocabulary\n",
    "        self.padding = padding\n",
    "        self.reverse_vocabulary = {v: k for k, v in self.vocabulary.items()}\n",
    "        \n",
    "    @classmethod\n",
    "    def from_strings(cls, strs, padding):\n",
    "        strs = list(strs)\n",
    "        chars = sorted({c for s in strs for c in s})\n",
    "        chars = chars + ['<unk>', '<eof>']\n",
    "        return cls({c:i for i,c in enumerate(chars)}, padding)"
   ]
  },
  {
   "cell_type": "code",
   "execution_count": 8,
   "metadata": {},
   "outputs": [
    {
     "data": {
      "text/plain": [
       "34"
      ]
     },
     "execution_count": 8,
     "metadata": {},
     "output_type": "execute_result"
    }
   ],
   "source": [
    "input_vocab = ExpressionVocabulary.from_strings(expressions['input'], padding)\n",
    "input_vocab.size()"
   ]
  },
  {
   "cell_type": "code",
   "execution_count": 9,
   "metadata": {},
   "outputs": [
    {
     "data": {
      "text/plain": [
       "35"
      ]
     },
     "execution_count": 9,
     "metadata": {},
     "output_type": "execute_result"
    }
   ],
   "source": [
    "output_vocab = ExpressionVocabulary.from_strings(expressions['output'], padding)\n",
    "output_vocab.size()"
   ]
  },
  {
   "cell_type": "code",
   "execution_count": 10,
   "metadata": {},
   "outputs": [],
   "source": [
    "class ExpressionData(Data):\n",
    "    \"\"\"Hacked class to expose the expressions using an API required by keras-attention\n",
    "       for data in this project.\n",
    "    \"\"\"\n",
    "    \n",
    "    def __init__(self, inputs, targets, input_vocabulary, output_vocabulary):\n",
    "        self.inputs = list(inputs)\n",
    "        self.targets = list(targets)\n",
    "        self.input_vocabulary = input_vocabulary\n",
    "        self.output_vocabulary = output_vocabulary\n",
    "    "
   ]
  },
  {
   "cell_type": "code",
   "execution_count": 11,
   "metadata": {},
   "outputs": [
    {
     "data": {
      "text/plain": [
       "320000"
      ]
     },
     "execution_count": 11,
     "metadata": {},
     "output_type": "execute_result"
    }
   ],
   "source": [
    "training_size = int(0.8 * len(expressions))\n",
    "training_size"
   ]
  },
  {
   "cell_type": "code",
   "execution_count": 12,
   "metadata": {},
   "outputs": [],
   "source": [
    "training = ExpressionData(\n",
    "    expressions['input'].iloc[:training_size],\n",
    "    expressions['output'].iloc[:training_size],\n",
    "    input_vocab,\n",
    "    output_vocab\n",
    ")\n",
    "training.transform()"
   ]
  },
  {
   "cell_type": "code",
   "execution_count": 13,
   "metadata": {},
   "outputs": [],
   "source": [
    "validation = ExpressionData(\n",
    "    expressions['input'].iloc[training_size:],\n",
    "    expressions['output'].iloc[training_size:],\n",
    "    input_vocab,\n",
    "    output_vocab\n",
    ")\n",
    "validation.transform()"
   ]
  },
  {
   "cell_type": "markdown",
   "metadata": {},
   "source": [
    "## Create the NMT model using keras-attention"
   ]
  },
  {
   "cell_type": "code",
   "execution_count": 14,
   "metadata": {},
   "outputs": [
    {
     "name": "stdout",
     "output_type": "stream",
     "text": [
      "inputs shape: (?, ?, 1024)\n"
     ]
    }
   ],
   "source": [
    "model = simpleNMT(pad_length=padding,\n",
    "              n_chars=input_vocab.size(),\n",
    "              n_labels=output_vocab.size(),\n",
    "              embedding_learnable=False,\n",
    "              encoder_units=512,\n",
    "              decoder_units=512,\n",
    "              trainable=True,\n",
    "              return_probabilities=False)"
   ]
  },
  {
   "cell_type": "code",
   "execution_count": 15,
   "metadata": {},
   "outputs": [
    {
     "name": "stdout",
     "output_type": "stream",
     "text": [
      "_________________________________________________________________\n",
      "Layer (type)                 Output Shape              Param #   \n",
      "=================================================================\n",
      "input_1 (InputLayer)         (None, 298)               0         \n",
      "_________________________________________________________________\n",
      "OneHot (Embedding)           (None, 298, 34)           1156      \n",
      "_________________________________________________________________\n",
      "bidirectional_1 (Bidirection (None, 298, 1024)         2240512   \n",
      "_________________________________________________________________\n",
      "attention_decoder_1 (Attenti (None, 298, 35)           3781356   \n",
      "=================================================================\n",
      "Total params: 6,023,024\n",
      "Trainable params: 6,021,868\n",
      "Non-trainable params: 1,156\n",
      "_________________________________________________________________\n"
     ]
    }
   ],
   "source": [
    "model.summary()"
   ]
  },
  {
   "cell_type": "code",
   "execution_count": 16,
   "metadata": {},
   "outputs": [],
   "source": [
    "model.compile(optimizer='adam',\n",
    "              loss='categorical_crossentropy',\n",
    "              metrics=['accuracy', all_acc])"
   ]
  },
  {
   "cell_type": "markdown",
   "metadata": {},
   "source": [
    "## Model Training"
   ]
  },
  {
   "cell_type": "code",
   "execution_count": 17,
   "metadata": {},
   "outputs": [],
   "source": [
    "def train_cycle():\n",
    "    cp = ModelCheckpoint(\"./data/weights/NMT.{epoch:02d}-{val_loss:.2f}.hdf5\",\n",
    "                         monitor='val_loss',\n",
    "                         verbose=0,\n",
    "                         save_best_only=True,\n",
    "                         save_weights_only=True,\n",
    "                         mode='auto')\n",
    "\n",
    "    batch_size = 10\n",
    "    model.fit_generator(generator=training.generator(batch_size),\n",
    "                        steps_per_epoch=100,\n",
    "                        validation_data=validation.generator(batch_size),\n",
    "                        validation_steps=100,\n",
    "                        callbacks=[cp],\n",
    "                        workers=1,\n",
    "                        verbose=1,\n",
    "                        epochs=5)"
   ]
  },
  {
   "cell_type": "markdown",
   "metadata": {},
   "source": [
    "## Show Examples of Model on Validation Input"
   ]
  },
  {
   "cell_type": "code",
   "execution_count": 18,
   "metadata": {},
   "outputs": [],
   "source": [
    "def encode(input_string):\n",
    "    \"Convert an input string in an array of numbers, on which modeling can be applied\"\n",
    "    return np.array([input_vocab.string_to_int(input_string)])\n",
    "\n",
    "def apply_model(input_string):\n",
    "    \"Run the model on a single input string\"\n",
    "    full_prediction = model.predict(encode(input_string))\n",
    "    prediction = np.argmax(full_prediction[0], axis=-1)\n",
    "    return output_vocab.int_to_string(prediction)\n",
    "    \n",
    "def show_example_ml_application(input_string):\n",
    "    \"Interpret the terminal and padding characters in raw results\"\n",
    "    results = apply_model(input_string)\n",
    "    pretty = ''.join('|' if x=='<eot>' else ('' if x == '<unk>' else x)\n",
    "                     for x in results)\n",
    "    print(repr(input_string), '->', repr(pretty))\n",
    "    \n",
    "\n",
    "examples = list(expressions['input'].iloc[training_size:].sample(10))\n",
    "\n",
    "def show_examples():\n",
    "    for example in examples:\n",
    "        show_example_ml_application(example)"
   ]
  },
  {
   "cell_type": "markdown",
   "metadata": {},
   "source": [
    "# Train and Show Examples Loop"
   ]
  },
  {
   "cell_type": "code",
   "execution_count": null,
   "metadata": {},
   "outputs": [
    {
     "name": "stdout",
     "output_type": "stream",
     "text": [
      "cycle 0\n",
      "Epoch 1/5\n",
      " 39/100 [==========>...................] - ETA: 2:21 - loss: 0.5618 - acc: 0.9062 - all_acc: 0.0000e+00"
     ]
    }
   ],
   "source": [
    "for i in range(100000):\n",
    "    print('cycle', i)\n",
    "    train_cycle()\n",
    "    show_examples()\n",
    "    print('-'*80)"
   ]
  }
 ],
 "metadata": {
  "kernelspec": {
   "display_name": "Python 3",
   "language": "python",
   "name": "python3"
  },
  "language_info": {
   "codemirror_mode": {
    "name": "ipython",
    "version": 3
   },
   "file_extension": ".py",
   "mimetype": "text/x-python",
   "name": "python",
   "nbconvert_exporter": "python",
   "pygments_lexer": "ipython3",
   "version": "3.6.5"
  }
 },
 "nbformat": 4,
 "nbformat_minor": 2
}
